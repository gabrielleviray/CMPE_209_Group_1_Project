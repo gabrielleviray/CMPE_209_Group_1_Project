{
 "cells": [
  {
   "cell_type": "code",
   "execution_count": 1,
   "metadata": {},
   "outputs": [],
   "source": [
    "import pandas as pd\n",
    "import numpy as np\n",
    "import matplotlib.pyplot as plt\n",
    "import matplotlib.colors as colors\n",
    "from sklearn.utils import resample\n",
    "from sklearn.model_selection import train_test_split\n",
    "from sklearn.preprocessing import scale \n",
    "from sklearn.svm import SVC\n",
    "from sklearn.model_selection import GridSearchCV\n",
    "from sklearn.metrics import confusion_matrix\n",
    "from sklearn.metrics import plot_confusion_matrix\n",
    "from sklearn.decomposition import PCA\n"
   ]
  },
  {
   "cell_type": "code",
   "execution_count": 2,
   "metadata": {},
   "outputs": [],
   "source": [
    "feature_names = pd.read_csv('feature_names.csv', header=None)\n",
    "kdd_names = feature_names.iloc[:,0].values\n",
    "kdd = pd.read_csv('kddcup.data_10_percent_corrected.csv', names=kdd_names)\n",
    "\n",
    "#kdd1 = kdd.sample(frac=0.5, random_state=42)\n",
    "#kdd2 = kdd.drop(kdd1.index)\n",
    "\n",
    "#kdd = kdd1.copy()\n"
   ]
  },
  {
   "cell_type": "code",
   "execution_count": 3,
   "metadata": {},
   "outputs": [
    {
     "name": "stdout",
     "output_type": "stream",
     "text": [
      "protocol_type: ['tcp' 'udp' 'icmp']\n",
      "service: ['http' 'smtp' 'finger' 'domain_u' 'auth' 'telnet' 'ftp' 'eco_i' 'ntp_u'\n",
      " 'ecr_i' 'other' 'private' 'pop_3' 'ftp_data' 'rje' 'time' 'mtp' 'link'\n",
      " 'remote_job' 'gopher' 'ssh' 'name' 'whois' 'domain' 'login' 'imap4'\n",
      " 'daytime' 'ctf' 'nntp' 'shell' 'IRC' 'nnsp' 'http_443' 'exec' 'printer'\n",
      " 'efs' 'courier' 'uucp' 'klogin' 'kshell' 'echo' 'discard' 'systat'\n",
      " 'supdup' 'iso_tsap' 'hostnames' 'csnet_ns' 'pop_2' 'sunrpc' 'uucp_path'\n",
      " 'netbios_ns' 'netbios_ssn' 'netbios_dgm' 'sql_net' 'vmnet' 'bgp' 'Z39_50'\n",
      " 'ldap' 'netstat' 'urh_i' 'X11' 'urp_i' 'pm_dump' 'tftp_u' 'tim_i' 'red_i']\n",
      "flag: ['SF' 'S1' 'REJ' 'S2' 'S0' 'S3' 'RSTO' 'RSTR' 'RSTOS0' 'OTH' 'SH']\n",
      "attack_type: ['normal.' 'buffer_overflow.' 'loadmodule.' 'perl.' 'neptune.' 'smurf.'\n",
      " 'guess_passwd.' 'pod.' 'teardrop.' 'portsweep.' 'ipsweep.' 'land.'\n",
      " 'ftp_write.' 'back.' 'imap.' 'satan.' 'phf.' 'nmap.' 'multihop.'\n",
      " 'warezmaster.' 'warezclient.' 'spy.' 'rootkit.']\n"
     ]
    }
   ],
   "source": [
    "for i in range(len(kdd.columns)):\n",
    "    if kdd.dtypes[i] == object:\n",
    "        print(kdd.columns[i],end =\": \")\n",
    "        print(kdd[kdd.columns[i]].unique())"
   ]
  },
  {
   "cell_type": "code",
   "execution_count": 4,
   "metadata": {},
   "outputs": [],
   "source": [
    "kdd_multiclass = kdd.copy()\n",
    "dos   = ['neptune.', 'land.', 'pod.', 'smurf.', 'teardrop.', 'back.', 'worm.', 'udpstorm.', 'processtable.', 'apache2.']\n",
    "probe = ['ipsweep.','satan.','nmap.','portsweep.','mscan.','saint.']\n",
    "R2L   = ['ftp_write.','guess_passwd.', 'imap.','multihop.','phf.'\n",
    "         ,'spy.','warezclient.','warezmaster.','snmpguess.','named.','xlock.','snmpgetattack.','httptunnel.','sendmail.']\n",
    "U2R   = ['buffer_overflow.','loadmodule.','perl.','rootkit.','ps.','xterm.','sqlattack.']\n",
    "\n",
    "kdd_multiclass['attack_type'].values[kdd_multiclass['attack_type'].isin(dos)] = 'dos'\n",
    "kdd_multiclass['attack_type'].values[kdd_multiclass['attack_type'].isin(probe)] = 'probe'\n",
    "kdd_multiclass['attack_type'].values[kdd_multiclass['attack_type'].isin(R2L)] = 'R2L'\n",
    "kdd_multiclass['attack_type'].values[kdd_multiclass['attack_type'].isin(U2R)] = 'U2R'"
   ]
  },
  {
   "cell_type": "code",
   "execution_count": 5,
   "metadata": {},
   "outputs": [
    {
     "name": "stdout",
     "output_type": "stream",
     "text": [
      "protocol_type: ['tcp' 'udp' 'icmp']\n",
      "service: ['http' 'smtp' 'finger' 'domain_u' 'auth' 'telnet' 'ftp' 'eco_i' 'ntp_u'\n",
      " 'ecr_i' 'other' 'private' 'pop_3' 'ftp_data' 'rje' 'time' 'mtp' 'link'\n",
      " 'remote_job' 'gopher' 'ssh' 'name' 'whois' 'domain' 'login' 'imap4'\n",
      " 'daytime' 'ctf' 'nntp' 'shell' 'IRC' 'nnsp' 'http_443' 'exec' 'printer'\n",
      " 'efs' 'courier' 'uucp' 'klogin' 'kshell' 'echo' 'discard' 'systat'\n",
      " 'supdup' 'iso_tsap' 'hostnames' 'csnet_ns' 'pop_2' 'sunrpc' 'uucp_path'\n",
      " 'netbios_ns' 'netbios_ssn' 'netbios_dgm' 'sql_net' 'vmnet' 'bgp' 'Z39_50'\n",
      " 'ldap' 'netstat' 'urh_i' 'X11' 'urp_i' 'pm_dump' 'tftp_u' 'tim_i' 'red_i']\n",
      "flag: ['SF' 'S1' 'REJ' 'S2' 'S0' 'S3' 'RSTO' 'RSTR' 'RSTOS0' 'OTH' 'SH']\n",
      "attack_type: ['normal.' 'U2R' 'dos' 'R2L' 'probe']\n"
     ]
    }
   ],
   "source": [
    "for i in range(len(kdd_multiclass.columns)):\n",
    "    if kdd_multiclass.dtypes[i] == object:\n",
    "        print(kdd_multiclass.columns[i],end =\": \")\n",
    "        print(kdd_multiclass[kdd_multiclass.columns[i]].unique())"
   ]
  },
  {
   "cell_type": "code",
   "execution_count": 6,
   "metadata": {},
   "outputs": [
    {
     "name": "stdout",
     "output_type": "stream",
     "text": [
      "<class 'pandas.core.frame.DataFrame'>\n",
      "RangeIndex: 494021 entries, 0 to 494020\n",
      "Columns: 119 entries, duration to service_whois\n",
      "dtypes: float64(15), int64(23), object(1), uint8(80)\n",
      "memory usage: 184.7+ MB\n"
     ]
    }
   ],
   "source": [
    "kdd_multi_encoded = pd.get_dummies(kdd_multiclass, columns=['protocol_type','flag','service'])\n",
    "kdd_multi_encoded.info()"
   ]
  },
  {
   "cell_type": "code",
   "execution_count": 7,
   "metadata": {},
   "outputs": [],
   "source": []
  },
  {
   "cell_type": "code",
   "execution_count": null,
   "metadata": {},
   "outputs": [],
   "source": []
  },
  {
   "cell_type": "code",
   "execution_count": 8,
   "metadata": {},
   "outputs": [],
   "source": [
    "#kdd_multiclass.info()"
   ]
  },
  {
   "cell_type": "code",
   "execution_count": 9,
   "metadata": {},
   "outputs": [],
   "source": [
    "#kdd_multi_encoded.head()\n",
    "#kdd_multi_encoded.info()"
   ]
  },
  {
   "cell_type": "code",
   "execution_count": 10,
   "metadata": {},
   "outputs": [],
   "source": [
    "from sklearn.model_selection import train_test_split\n",
    "X_train,X_test,y_train,y_test=train_test_split(kdd_multi_encoded.drop(labels=['attack_type'], axis=1),\n",
    "    kdd_multi_encoded['attack_type'],\n",
    "    test_size=0.3,\n",
    "    random_state=42)"
   ]
  },
  {
   "cell_type": "code",
   "execution_count": 11,
   "metadata": {
    "scrolled": false
   },
   "outputs": [
    {
     "data": {
      "text/html": [
       "<div>\n",
       "<style scoped>\n",
       "    .dataframe tbody tr th:only-of-type {\n",
       "        vertical-align: middle;\n",
       "    }\n",
       "\n",
       "    .dataframe tbody tr th {\n",
       "        vertical-align: top;\n",
       "    }\n",
       "\n",
       "    .dataframe thead th {\n",
       "        text-align: right;\n",
       "    }\n",
       "</style>\n",
       "<table border=\"1\" class=\"dataframe\">\n",
       "  <thead>\n",
       "    <tr style=\"text-align: right;\">\n",
       "      <th></th>\n",
       "      <th>duration</th>\n",
       "      <th>src_bytes</th>\n",
       "      <th>dst_bytes</th>\n",
       "      <th>land</th>\n",
       "      <th>wrong_fragment</th>\n",
       "      <th>urgent</th>\n",
       "      <th>hot</th>\n",
       "      <th>num_failed_logins</th>\n",
       "      <th>logged_in</th>\n",
       "      <th>num_compromised</th>\n",
       "      <th>...</th>\n",
       "      <th>service_telnet</th>\n",
       "      <th>service_tftp_u</th>\n",
       "      <th>service_tim_i</th>\n",
       "      <th>service_time</th>\n",
       "      <th>service_urh_i</th>\n",
       "      <th>service_urp_i</th>\n",
       "      <th>service_uucp</th>\n",
       "      <th>service_uucp_path</th>\n",
       "      <th>service_vmnet</th>\n",
       "      <th>service_whois</th>\n",
       "    </tr>\n",
       "  </thead>\n",
       "  <tbody>\n",
       "    <tr>\n",
       "      <th>228201</th>\n",
       "      <td>0</td>\n",
       "      <td>1032</td>\n",
       "      <td>0</td>\n",
       "      <td>0</td>\n",
       "      <td>0</td>\n",
       "      <td>0</td>\n",
       "      <td>0</td>\n",
       "      <td>0</td>\n",
       "      <td>0</td>\n",
       "      <td>0</td>\n",
       "      <td>...</td>\n",
       "      <td>0</td>\n",
       "      <td>0</td>\n",
       "      <td>0</td>\n",
       "      <td>0</td>\n",
       "      <td>0</td>\n",
       "      <td>0</td>\n",
       "      <td>0</td>\n",
       "      <td>0</td>\n",
       "      <td>0</td>\n",
       "      <td>0</td>\n",
       "    </tr>\n",
       "    <tr>\n",
       "      <th>483696</th>\n",
       "      <td>0</td>\n",
       "      <td>248</td>\n",
       "      <td>3415</td>\n",
       "      <td>0</td>\n",
       "      <td>0</td>\n",
       "      <td>0</td>\n",
       "      <td>0</td>\n",
       "      <td>0</td>\n",
       "      <td>1</td>\n",
       "      <td>0</td>\n",
       "      <td>...</td>\n",
       "      <td>0</td>\n",
       "      <td>0</td>\n",
       "      <td>0</td>\n",
       "      <td>0</td>\n",
       "      <td>0</td>\n",
       "      <td>0</td>\n",
       "      <td>0</td>\n",
       "      <td>0</td>\n",
       "      <td>0</td>\n",
       "      <td>0</td>\n",
       "    </tr>\n",
       "    <tr>\n",
       "      <th>234556</th>\n",
       "      <td>0</td>\n",
       "      <td>1032</td>\n",
       "      <td>0</td>\n",
       "      <td>0</td>\n",
       "      <td>0</td>\n",
       "      <td>0</td>\n",
       "      <td>0</td>\n",
       "      <td>0</td>\n",
       "      <td>0</td>\n",
       "      <td>0</td>\n",
       "      <td>...</td>\n",
       "      <td>0</td>\n",
       "      <td>0</td>\n",
       "      <td>0</td>\n",
       "      <td>0</td>\n",
       "      <td>0</td>\n",
       "      <td>0</td>\n",
       "      <td>0</td>\n",
       "      <td>0</td>\n",
       "      <td>0</td>\n",
       "      <td>0</td>\n",
       "    </tr>\n",
       "    <tr>\n",
       "      <th>127627</th>\n",
       "      <td>0</td>\n",
       "      <td>0</td>\n",
       "      <td>0</td>\n",
       "      <td>0</td>\n",
       "      <td>0</td>\n",
       "      <td>0</td>\n",
       "      <td>0</td>\n",
       "      <td>0</td>\n",
       "      <td>0</td>\n",
       "      <td>0</td>\n",
       "      <td>...</td>\n",
       "      <td>0</td>\n",
       "      <td>0</td>\n",
       "      <td>0</td>\n",
       "      <td>0</td>\n",
       "      <td>0</td>\n",
       "      <td>0</td>\n",
       "      <td>0</td>\n",
       "      <td>0</td>\n",
       "      <td>0</td>\n",
       "      <td>0</td>\n",
       "    </tr>\n",
       "    <tr>\n",
       "      <th>463534</th>\n",
       "      <td>0</td>\n",
       "      <td>0</td>\n",
       "      <td>0</td>\n",
       "      <td>0</td>\n",
       "      <td>0</td>\n",
       "      <td>0</td>\n",
       "      <td>0</td>\n",
       "      <td>0</td>\n",
       "      <td>0</td>\n",
       "      <td>0</td>\n",
       "      <td>...</td>\n",
       "      <td>0</td>\n",
       "      <td>0</td>\n",
       "      <td>0</td>\n",
       "      <td>0</td>\n",
       "      <td>0</td>\n",
       "      <td>0</td>\n",
       "      <td>0</td>\n",
       "      <td>0</td>\n",
       "      <td>0</td>\n",
       "      <td>0</td>\n",
       "    </tr>\n",
       "  </tbody>\n",
       "</table>\n",
       "<p>5 rows × 118 columns</p>\n",
       "</div>"
      ],
      "text/plain": [
       "        duration  src_bytes  dst_bytes  land  wrong_fragment  urgent  hot  \\\n",
       "228201         0       1032          0     0               0       0    0   \n",
       "483696         0        248       3415     0               0       0    0   \n",
       "234556         0       1032          0     0               0       0    0   \n",
       "127627         0          0          0     0               0       0    0   \n",
       "463534         0          0          0     0               0       0    0   \n",
       "\n",
       "        num_failed_logins  logged_in  num_compromised  ...  service_telnet  \\\n",
       "228201                  0          0                0  ...               0   \n",
       "483696                  0          1                0  ...               0   \n",
       "234556                  0          0                0  ...               0   \n",
       "127627                  0          0                0  ...               0   \n",
       "463534                  0          0                0  ...               0   \n",
       "\n",
       "        service_tftp_u  service_tim_i  service_time  service_urh_i  \\\n",
       "228201               0              0             0              0   \n",
       "483696               0              0             0              0   \n",
       "234556               0              0             0              0   \n",
       "127627               0              0             0              0   \n",
       "463534               0              0             0              0   \n",
       "\n",
       "        service_urp_i  service_uucp  service_uucp_path  service_vmnet  \\\n",
       "228201              0             0                  0              0   \n",
       "483696              0             0                  0              0   \n",
       "234556              0             0                  0              0   \n",
       "127627              0             0                  0              0   \n",
       "463534              0             0                  0              0   \n",
       "\n",
       "        service_whois  \n",
       "228201              0  \n",
       "483696              0  \n",
       "234556              0  \n",
       "127627              0  \n",
       "463534              0  \n",
       "\n",
       "[5 rows x 118 columns]"
      ]
     },
     "execution_count": 11,
     "metadata": {},
     "output_type": "execute_result"
    }
   ],
   "source": [
    "X_train.head()"
   ]
  },
  {
   "cell_type": "code",
   "execution_count": 12,
   "metadata": {},
   "outputs": [
    {
     "data": {
      "text/plain": [
       "array([4.20660437e-02, 4.88855510e-01, 3.76023384e-01, 0.00000000e+00,\n",
       "       1.85520878e-04, 0.00000000e+00, 6.26661142e-03, 0.00000000e+00,\n",
       "       2.74998788e-01, 6.94825468e-04, 6.53209546e-04, 4.37295999e-04,\n",
       "       1.76502926e-03, 1.56927572e-03, 1.26524632e-03, 1.63281024e-03,\n",
       "       1.00380152e-04, 0.00000000e+00, 5.06081767e-03, 4.81110186e-01,\n",
       "       2.94945722e-01, 6.02782072e-02, 4.99276031e-02, 1.79409225e-02,\n",
       "       9.71864549e-03, 1.00744643e-01, 7.57020978e-02, 1.17572648e-01,\n",
       "       2.60750582e-01, 1.70658367e-01, 1.54538997e-01, 1.42642156e-01,\n",
       "       2.95974751e-01, 2.02498700e-01, 7.06107618e-02, 5.96959460e-02,\n",
       "       2.55010352e-02, 2.52179474e-02, 2.18437418e-01, 9.43503296e-02,\n",
       "       5.92349259e-02, 0.00000000e+00, 4.39212019e-03, 2.07218838e-04,\n",
       "       4.71210818e-04, 6.69795612e-03, 4.69853534e-02, 0.00000000e+00,\n",
       "       8.82669970e-04, 3.69937452e-05, 6.06340422e-02, 1.01884555e-03,\n",
       "       1.65728855e-03, 0.00000000e+00, 2.96415274e-04, 1.08870550e-04,\n",
       "       4.70658607e-04, 6.16969850e-04, 0.00000000e+00, 0.00000000e+00,\n",
       "       3.47516402e-04, 0.00000000e+00, 0.00000000e+00, 2.07088727e-02,\n",
       "       0.00000000e+00, 1.21558161e-02, 2.33780969e-01, 6.17111500e-05,\n",
       "       2.28089196e-04, 1.30402099e-03, 3.27881462e-03, 1.67985903e-02,\n",
       "       1.46157836e-04, 0.00000000e+00, 2.27775273e-01, 3.39808412e-05,\n",
       "       0.00000000e+00, 5.32770734e-04, 1.40325465e-04, 0.00000000e+00,\n",
       "       2.91299104e-04, 5.21693761e-04, 3.63248502e-04, 8.22054215e-04,\n",
       "       3.86926394e-04, 1.88996550e-04, 1.05353485e-03, 2.03961272e-04,\n",
       "       1.19856079e-06, 0.00000000e+00, 0.00000000e+00, 1.71563843e-03,\n",
       "       2.48679495e-02, 0.00000000e+00, 0.00000000e+00, 8.80035989e-05,\n",
       "       3.51539323e-05, 2.29776439e-02, 1.07984780e-04, 9.63277299e-04,\n",
       "       0.00000000e+00, 6.34827835e-04, 3.22167428e-02, 0.00000000e+00,\n",
       "       0.00000000e+00, 0.00000000e+00, 0.00000000e+00, 1.38850749e-03,\n",
       "       2.01952133e-03, 3.11630747e-04, 0.00000000e+00, 6.30963769e-04,\n",
       "       0.00000000e+00, 2.65821871e-03, 1.58106126e-04, 2.23627373e-04,\n",
       "       1.50515710e-05, 0.00000000e+00])"
      ]
     },
     "execution_count": 12,
     "metadata": {},
     "output_type": "execute_result"
    }
   ],
   "source": [
    "from sklearn.feature_selection import mutual_info_classif\n",
    "# determine the mutual information\n",
    "mutual_info = mutual_info_classif(X_train, y_train)\n",
    "mutual_info"
   ]
  },
  {
   "cell_type": "code",
   "execution_count": 13,
   "metadata": {
    "scrolled": false
   },
   "outputs": [
    {
     "name": "stdout",
     "output_type": "stream",
     "text": [
      "src_bytes                      0.488856\n",
      "count                          0.481110\n",
      "dst_bytes                      0.376023\n",
      "dst_host_same_src_port_rate    0.295975\n",
      "srv_count                      0.294946\n",
      "logged_in                      0.274999\n",
      "dst_host_count                 0.260751\n",
      "service_ecr_i                  0.233781\n",
      "service_http                   0.227775\n",
      "protocol_type_icmp             0.218437\n",
      "dst_host_srv_diff_host_rate    0.202499\n",
      "dst_host_srv_count             0.170658\n",
      "dst_host_same_srv_rate         0.154539\n",
      "dst_host_diff_srv_rate         0.142642\n",
      "srv_diff_host_rate             0.117573\n",
      "same_srv_rate                  0.100745\n",
      "protocol_type_tcp              0.094350\n",
      "diff_srv_rate                  0.075702\n",
      "dst_host_serror_rate           0.070611\n",
      "flag_SF                        0.060634\n",
      "serror_rate                    0.060278\n",
      "dst_host_srv_serror_rate       0.059696\n",
      "protocol_type_udp              0.059235\n",
      "srv_serror_rate                0.049928\n",
      "flag_S0                        0.046985\n",
      "duration                       0.042066\n",
      "service_smtp                   0.032217\n",
      "dst_host_rerror_rate           0.025501\n",
      "dst_host_srv_rerror_rate       0.025218\n",
      "service_other                  0.024868\n",
      "service_private                0.022978\n",
      "service_domain_u               0.020709\n",
      "rerror_rate                    0.017941\n",
      "service_ftp_data               0.016799\n",
      "service_eco_i                  0.012156\n",
      "srv_rerror_rate                0.009719\n",
      "flag_RSTR                      0.006698\n",
      "hot                            0.006267\n",
      "is_guest_login                 0.005061\n",
      "flag_REJ                       0.004392\n",
      "service_ftp                    0.003279\n",
      "service_urp_i                  0.002658\n",
      "service_telnet                 0.002020\n",
      "num_root                       0.001765\n",
      "service_ntp_u                  0.001716\n",
      "service_IRC                    0.001657\n",
      "num_access_files               0.001633\n",
      "num_file_creations             0.001569\n",
      "service_systat                 0.001389\n",
      "service_finger                 0.001304\n",
      "num_shells                     0.001265\n",
      "service_netbios_ns             0.001054\n",
      "flag_SH                        0.001019\n",
      "service_remote_job             0.000963\n",
      "flag_S2                        0.000883\n",
      "service_mtp                    0.000822\n",
      "num_compromised                0.000695\n",
      "root_shell                     0.000653\n",
      "service_shell                  0.000635\n",
      "service_time                   0.000631\n",
      "service_courier                0.000617\n",
      "service_iso_tsap               0.000533\n",
      "service_link                   0.000522\n",
      "flag_RSTOS0                    0.000471\n",
      "service_bgp                    0.000471\n",
      "su_attempted                   0.000437\n",
      "service_name                   0.000387\n",
      "service_login                  0.000363\n",
      "service_daytime                0.000348\n",
      "service_tftp_u                 0.000312\n",
      "service_Z39_50                 0.000296\n",
      "service_ldap                   0.000291\n",
      "service_exec                   0.000228\n",
      "service_uucp_path              0.000224\n",
      "flag_RSTO                      0.000207\n",
      "service_netbios_ssn            0.000204\n",
      "service_netbios_dgm            0.000189\n",
      "wrong_fragment                 0.000186\n",
      "service_uucp                   0.000158\n",
      "service_gopher                 0.000146\n",
      "service_klogin                 0.000140\n",
      "service_auth                   0.000109\n",
      "service_red_i                  0.000108\n",
      "num_outbound_cmds              0.000100\n",
      "service_pop_3                  0.000088\n",
      "service_efs                    0.000062\n",
      "flag_S3                        0.000037\n",
      "service_printer                0.000035\n",
      "service_http_443               0.000034\n",
      "service_vmnet                  0.000015\n",
      "service_netstat                0.000001\n",
      "service_sql_net                0.000000\n",
      "service_ssh                    0.000000\n",
      "service_sunrpc                 0.000000\n",
      "service_rje                    0.000000\n",
      "service_tim_i                  0.000000\n",
      "service_urh_i                  0.000000\n",
      "service_supdup                 0.000000\n",
      "service_ctf                    0.000000\n",
      "service_pop_2                  0.000000\n",
      "service_csnet_ns               0.000000\n",
      "land                           0.000000\n",
      "urgent                         0.000000\n",
      "num_failed_logins              0.000000\n",
      "is_host_login                  0.000000\n",
      "flag_OTH                       0.000000\n",
      "flag_S1                        0.000000\n",
      "service_X11                    0.000000\n",
      "service_discard                0.000000\n",
      "service_pm_dump                0.000000\n",
      "service_domain                 0.000000\n",
      "service_echo                   0.000000\n",
      "service_hostnames              0.000000\n",
      "service_imap4                  0.000000\n",
      "service_kshell                 0.000000\n",
      "service_nnsp                   0.000000\n",
      "service_nntp                   0.000000\n",
      "service_whois                  0.000000\n",
      "dtype: float64\n"
     ]
    }
   ],
   "source": [
    "import sys\n",
    "pd.set_option('display.max_rows', None)\n",
    "mutual_info = pd.Series(mutual_info)\n",
    "mutual_info.index = X_train.columns\n",
    "\n",
    "print(mutual_info.sort_values(ascending=False))"
   ]
  },
  {
   "cell_type": "code",
   "execution_count": 14,
   "metadata": {},
   "outputs": [
    {
     "data": {
      "text/plain": [
       "<AxesSubplot:>"
      ]
     },
     "execution_count": 14,
     "metadata": {},
     "output_type": "execute_result"
    },
    {
     "data": {
      "image/png": "[encoded data removed]",
      "text/plain": [
       "<Figure size 1440x576 with 1 Axes>"
      ]
     },
     "metadata": {
      "needs_background": "light"
     },
     "output_type": "display_data"
    }
   ],
   "source": [
    "mutual_info.sort_values(ascending=False).plot.bar(figsize=(20, 8))"
   ]
  },
  {
   "cell_type": "code",
   "execution_count": null,
   "metadata": {},
   "outputs": [],
   "source": []
  },
  {
   "cell_type": "code",
   "execution_count": 15,
   "metadata": {},
   "outputs": [],
   "source": [
    "from sklearn.feature_selection import SelectKBest\n"
   ]
  },
  {
   "cell_type": "code",
   "execution_count": 16,
   "metadata": {},
   "outputs": [
    {
     "data": {
      "text/plain": [
       "Index(['duration', 'src_bytes', 'dst_bytes', 'logged_in', 'count', 'srv_count',\n",
       "       'serror_rate', 'srv_serror_rate', 'same_srv_rate', 'diff_srv_rate',\n",
       "       'srv_diff_host_rate', 'dst_host_count', 'dst_host_srv_count',\n",
       "       'dst_host_same_srv_rate', 'dst_host_diff_srv_rate',\n",
       "       'dst_host_same_src_port_rate', 'dst_host_srv_diff_host_rate',\n",
       "       'dst_host_serror_rate', 'dst_host_srv_serror_rate',\n",
       "       'protocol_type_icmp', 'protocol_type_tcp', 'protocol_type_udp',\n",
       "       'flag_S0', 'flag_SF', 'service_ecr_i', 'service_http', 'service_smtp'],\n",
       "      dtype='object')"
      ]
     },
     "execution_count": 16,
     "metadata": {},
     "output_type": "execute_result"
    }
   ],
   "source": [
    "sel_five_cols = SelectKBest(mutual_info_classif, k=27)\n",
    "sel_five_cols.fit(X_train, y_train)\n",
    "X_train.columns[sel_five_cols.get_support()]"
   ]
  }
 ],
 "metadata": {
  "kernelspec": {
   "display_name": "Python 3 (ipykernel)",
   "language": "python",
   "name": "python3"
  },
  "language_info": {
   "codemirror_mode": {
    "name": "ipython",
    "version": 3
   },
   "file_extension": ".py",
   "mimetype": "text/x-python",
   "name": "python",
   "nbconvert_exporter": "python",
   "pygments_lexer": "ipython3",
   "version": "3.7.6"
  }
 },
 "nbformat": 4,
 "nbformat_minor": 4
}
